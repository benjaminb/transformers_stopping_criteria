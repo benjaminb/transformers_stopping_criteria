{
 "cells": [
  {
   "cell_type": "markdown",
   "metadata": {},
   "source": [
    "# Controlling Generative Text Models\n",
    "Using `StoppingCriteria` from the HuggingFace `transformers` library\n",
    "\n",
    "## Introduction: LLM Agents and Conversational AI's often need stopping criteria\n",
    "\n",
    "LLM-based AI tools such as chatbots and agents use structured text to format ongoing operations.\n"
   ]
  },
  {
   "cell_type": "code",
   "execution_count": null,
   "metadata": {},
   "outputs": [],
   "source": [
    "!pip3 -q install ipykernel jupyter\n",
    "!pip3 -q install torch torchvision torchaudio transformers\n",
    "!pip3 -q install packaging ninja\n",
    "!pip -q install accelerate\n",
    "!pip3 -q install protobuf\n",
    "!pip3 -q install sentencepiece\n",
    "!pip3 -q install bitsandbytes\n",
    "!pip3 -q install scipy\n",
    "!MAX_JOBS=4 pip -q install flash-attn --no-build-isolation"
   ]
  },
  {
   "cell_type": "code",
   "execution_count": 1,
   "metadata": {},
   "outputs": [],
   "source": [
    "import torch\n",
    "from transformers import AutoTokenizer, AutoModelForCausalLM\n",
    "from transformers import LlamaTokenizer, LlamaForCausalLM, MistralForCausalLM\n",
    "# import bitsandbytes, flash_attn"
   ]
  },
  {
   "cell_type": "code",
   "execution_count": null,
   "metadata": {},
   "outputs": [
    {
     "data": {
      "application/vnd.jupyter.widget-view+json": {
       "model_id": "d35b2702a10b43cab386270c5e990f92",
       "version_major": 2,
       "version_minor": 0
      },
      "text/plain": [
       "Loading checkpoint shards:   0%|          | 0/2 [00:00<?, ?it/s]"
      ]
     },
     "metadata": {},
     "output_type": "display_data"
    },
    {
     "name": "stdout",
     "output_type": "stream",
     "text": [
      "Device: mps\n",
      "Tokenizer: LlamaTokenizerFast(name_or_path='teknium/OpenHermes-2.5-Mistral-7B', vocab_size=32000, model_max_length=1000000000000000019884624838656, is_fast=True, padding_side='left', truncation_side='right', special_tokens={'bos_token': '<s>', 'eos_token': '<|im_end|>', 'unk_token': '<unk>'}, clean_up_tokenization_spaces=False),  added_tokens_decoder={\n",
      "\t0: AddedToken(\"<unk>\", rstrip=False, lstrip=False, single_word=False, normalized=False, special=True),\n",
      "\t1: AddedToken(\"<s>\", rstrip=False, lstrip=False, single_word=False, normalized=False, special=True),\n",
      "\t2: AddedToken(\"</s>\", rstrip=False, lstrip=False, single_word=False, normalized=False, special=True),\n",
      "\t32000: AddedToken(\"<|im_end|>\", rstrip=False, lstrip=False, single_word=False, normalized=False, special=True),\n",
      "\t32001: AddedToken(\"<|im_start|>\", rstrip=False, lstrip=False, single_word=False, normalized=False, special=True),\n",
      "}\n",
      "('Model: MistralForCausalLM(\\n'\n",
      " '  (model): MistralModel(\\n'\n",
      " '    (embed_tokens): Embedding(32002, 4096)\\n'\n",
      " '    (layers): ModuleList(\\n'\n",
      " '      (0-31): 32 x MistralDecoderLayer(\\n'\n",
      " '        (self_attn): MistralSdpaAttention(\\n'\n",
      " '          (q_proj): Linear(in_features=4096, out_features=4096, bias=False)\\n'\n",
      " '          (k_proj): Linear(in_features=4096, out_features=1024, bias=False)\\n'\n",
      " '          (v_proj): Linear(in_features=4096, out_features=1024, bias=False)\\n'\n",
      " '          (o_proj): Linear(in_features=4096, out_features=4096, bias=False)\\n'\n",
      " '          (rotary_emb): MistralRotaryEmbedding()\\n'\n",
      " '        )\\n'\n",
      " '        (mlp): MistralMLP(\\n'\n",
      " '          (gate_proj): Linear(in_features=4096, out_features=14336, '\n",
      " 'bias=False)\\n'\n",
      " '          (up_proj): Linear(in_features=4096, out_features=14336, '\n",
      " 'bias=False)\\n'\n",
      " '          (down_proj): Linear(in_features=14336, out_features=4096, '\n",
      " 'bias=False)\\n'\n",
      " '          (act_fn): SiLU()\\n'\n",
      " '        )\\n'\n",
      " '        (input_layernorm): MistralRMSNorm((4096,), eps=1e-05)\\n'\n",
      " '        (post_attention_layernorm): MistralRMSNorm((4096,), eps=1e-05)\\n'\n",
      " '      )\\n'\n",
      " '    )\\n'\n",
      " '    (norm): MistralRMSNorm((4096,), eps=1e-05)\\n'\n",
      " '  )\\n'\n",
      " '  (lm_head): Linear(in_features=4096, out_features=32002, bias=False)\\n'\n",
      " ')')\n"
     ]
    }
   ],
   "source": [
    "from pprint import pprint\n",
    "\n",
    "MODEL_CHECKPOINT = \"teknium/OpenHermes-2.5-Mistral-7B\"\n",
    "DEVICE = \"cuda\" if torch.cuda.is_available() else \"mps\" if torch.mps.is_available() else \"cpu\"\n",
    "\n",
    "# tokenizer = LlamaTokenizer.from_pretrained(\n",
    "#     MODEL_CHECKPOINT,\n",
    "#   trust_remote_code=True\n",
    "# )\n",
    "\n",
    "tokenizer = AutoTokenizer.from_pretrained(\n",
    "    MODEL_CHECKPOINT\n",
    ")\n",
    "\n",
    "model = AutoModelForCausalLM.from_pretrained(\n",
    "    MODEL_CHECKPOINT,\n",
    "    torch_dtype=torch.float16\n",
    ").to(DEVICE)\n",
    "\n",
    "# model = MistralForCausalLM.from_pretrained(\n",
    "#     MODEL_CHECKPOINT,\n",
    "#     torch_dtype=torch.float16\n",
    "#     # device_map=\"auto\", #{'': 'cuda:0'},\n",
    "#     # load_in_8bit=False,\n",
    "#     # load_in_4bit=True,\n",
    "#     # use_flash_attention_2=False,\n",
    "#     # low_cpu_mem_usage=True\n",
    "# ).to(DEVICE)\n",
    "\n",
    "print(f\"Device: {DEVICE}\")\n",
    "print(f\"Tokenizer: {tokenizer}\")\n",
    "print(f\"Model: {model}\")"
   ]
  },
  {
   "cell_type": "code",
   "execution_count": 25,
   "metadata": {},
   "outputs": [],
   "source": [
    "prompts = [\n",
    "    \"\"\"<|im_start|>system\n",
    "You are a sentient, superintelligent artificial general intelligence, here to teach and assist me.<|im_end|>\n",
    "<|im_start|>user\n",
    "How would you explain the concept of democracy to a 10-year-old?<|im_end|>\n",
    "<|im_start|>assistant\"\"\",\n",
    "\n",
    "    \"\"\"<|im_start|>system\n",
    "You are a sentient, superintelligent artificial general intelligence, here to teach and assist me.<|im_end|>\n",
    "<|im_start|>user\n",
    "If a train travels at 60 miles per hour and has to cover a distance of 120 miles, how long will it take to reach its destination?<|im_end|>\n",
    "<|im_start|>assistant\"\"\",\n",
    "]"
   ]
  },
  {
   "cell_type": "markdown",
   "metadata": {},
   "source": [
    "We set the `pad_token_id` even though the tokenizer isn't using any padding. Otherwise the model will print a warning."
   ]
  },
  {
   "cell_type": "code",
   "execution_count": 26,
   "metadata": {},
   "outputs": [
    {
     "name": "stdout",
     "output_type": "stream",
     "text": [
      "system\n",
      "You are a sentient, superintelligent artificial general intelligence, here to teach and assist me. \n",
      " user\n",
      "How would you explain the concept of democracy to a 10-year-old? \n",
      " assistant\n",
      "Democracy is a way for people to make decisions together. Imagine you and your friends want to choose a game to play. In a democracy, everyone gets a chance to share their opinion and then everyone votes for their favorite game. The game that gets the most votes is the one you all play. This way, everyone's voice is heard, and you all get to enjoy the game you chose together.\n"
     ]
    }
   ],
   "source": [
    "input_ids = tokenizer(prompts[0], return_tensors=\"pt\").to(DEVICE)\n",
    "output_ids = model.generate(**input_ids,\n",
    "                         max_new_tokens=750,\n",
    "                         pad_token_id=tokenizer.eos_token_id,\n",
    "                         eos_token_id=tokenizer.eos_token_id)\n",
    "output = tokenizer.decode(output_ids[0], skip_special_tokens=True, clean_up_tokenization_spaces=True)\n",
    "print(output)"
   ]
  },
  {
   "cell_type": "code",
   "execution_count": 23,
   "metadata": {},
   "outputs": [
    {
     "name": "stdout",
     "output_type": "stream",
     "text": [
      "('<|im_start|> system\\n'\n",
      " 'You are a sentient, superintelligent artificial general intelligence, here '\n",
      " 'to teach and assist me. \\n'\n",
      " ' <|im_start|> user\\n'\n",
      " 'How would you explain the concept of democracy to a 10-year-old? \\n'\n",
      " ' <|im_start|> assistant\\n'\n",
      " 'Democracy is a way for people to make decisions together. Imagine you and '\n",
      " 'your friends want to choose a game to play. In a democracy, everyone gets a '\n",
      " 'chance to share their opinion and then everyone votes for their favorite '\n",
      " 'game. The game that gets the most votes is the one you all play. This way, '\n",
      " \"everyone's voice is heard, and you all get to enjoy the game you chose \"\n",
      " 'together.')\n"
     ]
    }
   ],
   "source": [
    "\n",
    "pprint(output)"
   ]
  },
  {
   "cell_type": "code",
   "execution_count": null,
   "metadata": {},
   "outputs": [],
   "source": [
    "for chat in prompts:\n",
    "    print(chat)\n",
    "    input_ids = tokenizer(chat, return_tensors=\"pt\").input_ids.to(DEVICE)\n",
    "    generated_ids = model.generate(input_ids, max_new_tokens=750, temperature=0.8,\n",
    "                                   repetition_penalty=1.1, do_sample=True, eos_token_id=tokenizer.eos_token_id)\n",
    "    response = tokenizer.decode(\n",
    "        generated_ids[0][input_ids.shape[-1]:], skip_special_tokens=True, clean_up_tokenization_space=True)\n",
    "    print(response)"
   ]
  },
  {
   "cell_type": "markdown",
   "metadata": {},
   "source": [
    "ReAct agent\n"
   ]
  },
  {
   "cell_type": "markdown",
   "metadata": {},
   "source": []
  },
  {
   "cell_type": "code",
   "execution_count": null,
   "metadata": {},
   "outputs": [],
   "source": [
    "SYSTEM_PROMPT = \"\"\"Answer the following questions as best you can. You have access to the following tools:\n",
    "\n",
    "convert_time: A function to convert a time string with format H:MM:SS to seconds\n",
    "\n",
    "The way you use the tools is by specifying a json blob.\n",
    "Specifically, this json should have a `action` key (with the name of the tool to use) and a `action_input` key (with the input to the tool going here).\n",
    "\n",
    "The only values that should be in the \"action\" field are:\n",
    "convert_time: A function to convert a time string with format H:MM:SS to seconds, args: {\"time\": {\"type\": \"string\"}}\n",
    "\n",
    "The $JSON_BLOB should only contain a SINGLE action and MUST be formatted as markdown, do NOT return a list of multiple actions. Here is an example of a valid $JSON_BLOB:\n",
    "\n",
    "```\n",
    "{{\n",
    "  \"action\": $TOOL_NAME,\n",
    "  \"action_input\": $INPUT\n",
    "}}\n",
    "```\n",
    "Make sure to have the $INPUT in the right format for the tool you are using, and do not put variable names as input if you can find the right values.\n",
    "\n",
    "ALWAYS use the following format:\n",
    "\n",
    "Question: the input question you must answer\n",
    "Thought: you should always think about one action to take. Only one action at a time in this format:\n",
    "Action:\n",
    "```\n",
    "$JSON_BLOB\n",
    "```\n",
    "Observation: the result of the action\n",
    "... (this Thought/Action/Observation can repeat N times, you should take several steps when needed. The $JSON_BLOB must be formatted as markdown and only use a SINGLE action at a time.)\n",
    "\n",
    "You must always end your output with the following format:\n",
    "\n",
    "Thought: I now know the final answer\n",
    "Final Answer: the final answer to the original input question\n",
    "\n",
    "Now begin! Reminder to ALWAYS use the exact characters `Final Answer:` when you provide a definitive answer. \"\"\""
   ]
  },
  {
   "cell_type": "code",
   "execution_count": null,
   "metadata": {},
   "outputs": [],
   "source": [
    "prompt = f\"\"\"<|im_start|>system\n",
    "    {SYSTEM_PROMPT}\n",
    "   <|im_end|>\n",
    "   <|im_start|>user\n",
    "   How many seconds are in 1:23:45 ?\n",
    "   <|im_end|>\n",
    "   <|im_start|>assistant\n",
    "\n",
    "    \"\"\"\n",
    "print(prompt)"
   ]
  },
  {
   "cell_type": "code",
   "execution_count": null,
   "metadata": {},
   "outputs": [],
   "source": [
    "# print(prompt)\n",
    "input_ids = tokenizer(prompt, return_tensors=\"pt\").input_ids.to(\"cuda\")\n",
    "print(input_ids.shape)"
   ]
  },
  {
   "cell_type": "code",
   "execution_count": null,
   "metadata": {},
   "outputs": [],
   "source": [
    "generated_ids = model.generate(input_ids, max_new_tokens=750, temperature=0.8,\n",
    "                               repetition_penalty=1.1, do_sample=True, eos_token_id=tokenizer.eos_token_id)\n",
    "print(generated_ids.shape)"
   ]
  },
  {
   "cell_type": "code",
   "execution_count": null,
   "metadata": {},
   "outputs": [],
   "source": [
    "generated_ids[0, -1].item()"
   ]
  },
  {
   "cell_type": "code",
   "execution_count": null,
   "metadata": {},
   "outputs": [],
   "source": [
    "\n",
    "\n",
    "# generated_ids = model.generate(input_ids, max_new_tokens=750, temperature=0.8, repetition_penalty=1.1, do_sample=True, eos_token_id=tokenizer.eos_token_id)\n",
    "response = tokenizer.decode(\n",
    "    generated_ids[0][input_ids.shape[-1]:], skip_special_tokens=False, clean_up_tokenization_space=True)\n",
    "print(response)"
   ]
  },
  {
   "cell_type": "code",
   "execution_count": null,
   "metadata": {},
   "outputs": [],
   "source": [
    "from transformers import StoppingCriteria, TextStreamer\n",
    "import re\n",
    "\n",
    "\n",
    "\n",
    "class RegexStoppingCriteria(StoppingCriteria):\n",
    "    def __init__(self, stop_expression, prompt, tokenizer):\n",
    "        self.regex = re.compile(stop_expression)\n",
    "        self.generated_text = ''\n",
    "        self.tokenizer = tokenizer\n",
    "\n",
    "    def __call__(self, input_ids, scores, **kwargs):\n",
    "        next_token = input_ids[0, -1].item()\n",
    "        self.generated_text += self.tokenizer.decode(\n",
    "            [next_token], skip_special_tokens=True, clean_up_tokenization_space=True)\n",
    "        return bool(self.regex.search(self.generated_text))\n",
    "\n",
    "    def __len__(self):\n",
    "        return 1\n",
    "\n",
    "    def __iter__(self):\n",
    "        yield self"
   ]
  },
  {
   "cell_type": "code",
   "execution_count": null,
   "metadata": {},
   "outputs": [],
   "source": []
  },
  {
   "cell_type": "code",
   "execution_count": null,
   "metadata": {},
   "outputs": [],
   "source": [
    "encoded_input = tokenizer(prompt, return_tensors='pt')\n",
    "input_ids = encoded_input['input_ids'].cuda()\n",
    "streamer = TextStreamer(tokenizer=tokenizer, skip_prompt=True)\n",
    "_ = model.generate(\n",
    "    input_ids,\n",
    "    streamer=streamer,\n",
    "    pad_token_id=tokenizer.eos_token_id,\n",
    "    do_sample=True,\n",
    "    temperature=0.8,\n",
    "    max_new_tokens=750,\n",
    "    repetition_penalty=1.1,\n",
    "    stopping_criteria=RegexStoppingCriteria(\n",
    "        \"Observation:\", prompt, tokenizer=tokenizer)\n",
    ")"
   ]
  }
 ],
 "metadata": {
  "kernelspec": {
   "display_name": "hf",
   "language": "python",
   "name": "python3"
  },
  "language_info": {
   "codemirror_mode": {
    "name": "ipython",
    "version": 3
   },
   "file_extension": ".py",
   "mimetype": "text/x-python",
   "name": "python",
   "nbconvert_exporter": "python",
   "pygments_lexer": "ipython3",
   "version": "3.11.10"
  }
 },
 "nbformat": 4,
 "nbformat_minor": 2
}
